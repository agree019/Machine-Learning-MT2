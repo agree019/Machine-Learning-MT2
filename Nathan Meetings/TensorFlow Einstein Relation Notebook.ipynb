{
 "cells": [
  {
   "cell_type": "markdown",
   "id": "ca2e2043",
   "metadata": {},
   "source": [
    "# Learning the Einstein Relation"
   ]
  },
  {
   "cell_type": "markdown",
   "id": "e32519f1",
   "metadata": {},
   "source": [
    "Given the 4 momentum of a particle, I am hoping for the neural network to learn the formula $$M^2 = E^2 - p^2$$"
   ]
  },
  {
   "cell_type": "markdown",
   "id": "b91bca2c",
   "metadata": {},
   "source": [
    "Most of this will be similar to the previous notebook, TensorFlowWBosonMass.ipynb, but I will be using the 1000points.csv data file for this one."
   ]
  },
  {
   "cell_type": "markdown",
   "id": "9553149c",
   "metadata": {},
   "source": [
    "Starting off, we will read the input data as usual:"
   ]
  },
  {
   "cell_type": "code",
   "execution_count": null,
   "id": "749d0cfa",
   "metadata": {},
   "outputs": [],
   "source": [
    "import pandas as pd\n",
    "import math\n",
    "import numpy as np\n",
    "from sklearn.model_selection import train_test_split\n",
    "from sklearn.preprocessing import StandardScaler\n",
    "particleData = pd.read_csv(\"1000Points.csv\")\n",
    "dataInput = particleData[['E', 'px', 'py', 'pz']]\n",
    "dataOutput = particleData[['m']]\n",
    "x_train, x_test, y_train, y_test = train_test_split(dataInput, dataOutput, test_size = 0.1)\n",
    "#print(x_train)\n",
    "#print(y_train)\n",
    "#print(x_test)\n",
    "#print(y_test)"
   ]
  },
  {
   "cell_type": "markdown",
   "id": "caaad340",
   "metadata": {},
   "source": [
    "The next part will be implementing the network topology using TensorFlow."
   ]
  },
  {
   "cell_type": "code",
   "execution_count": null,
   "id": "3409b14f",
   "metadata": {
    "scrolled": true
   },
   "outputs": [],
   "source": [
    "import tensorflow as tf\n",
    "from tensorflow import keras\n",
    "import numpy as np\n",
    "\n",
    "#model\n",
    "layers = []\n",
    "model = tf.keras.Sequential()\n",
    "layers.append(keras.layers.Dense(6, activation = 'relu', input_dim = 4)) #number of input nodes\n",
    "model.add(layers[0])\n",
    "for i in range(3): #number of hidden layers - 1, can be changed\n",
    "    layers.append(keras.layers.Dense(6, activation = 'relu'))\n",
    "    model.add(layers[i + 1])\n",
    "layers.append(keras.layers.Dense(1))\n",
    "model.add(layers[len(layers) - 1])\n",
    "#print(model.summary()) #check if topology working correctly\n",
    "\n",
    "#loss and optimizer\n",
    "loss = keras.losses.MeanSquaredError() #using MSE for error calculation\n",
    "optimizer = keras.optimizers.Adam(learning_rate = 0.1) #put in learning rate, using 0.1\n",
    "metrics = [\"accuracy\"] #metric\n",
    "model.compile(loss = loss, optimizer = optimizer, metrics = metrics) #configure model for training"
   ]
  },
  {
   "cell_type": "markdown",
   "id": "0e15af22",
   "metadata": {},
   "source": [
    "Next up is training the model:"
   ]
  },
  {
   "cell_type": "code",
   "execution_count": null,
   "id": "9e56b6b9",
   "metadata": {},
   "outputs": [],
   "source": [
    "import tensorflow as tf\n",
    "from tensorflow import keras\n",
    "import numpy as np\n",
    "import matplotlib\n",
    "#training data\n",
    "batch_size = 32 #batch size\n",
    "epochs = 36 #epochs, can be adjusted\n",
    "model.fit(x_train, y_train, batch_size = batch_size, epochs = epochs, shuffle = True, verbose = 2)\n",
    "# print out weights/layers\n",
    "# for i in layers:\n",
    "#     print(i.get_weights())\n",
    "tf.compat.v1.enable_eager_execution()\n",
    "print(layers[len(layers) - 1].output)"
   ]
  },
  {
   "cell_type": "markdown",
   "id": "2bb6b257",
   "metadata": {},
   "source": [
    "This part is testing the neural network."
   ]
  },
  {
   "cell_type": "code",
   "execution_count": null,
   "id": "8d205300",
   "metadata": {},
   "outputs": [],
   "source": [
    "model.evaluate(x_test, y_test, batch_size = batch_size, verbose = 2)"
   ]
  }
 ],
 "metadata": {
  "kernelspec": {
   "display_name": "Python 3 (ipykernel)",
   "language": "python",
   "name": "python3"
  },
  "language_info": {
   "codemirror_mode": {
    "name": "ipython",
    "version": 3
   },
   "file_extension": ".py",
   "mimetype": "text/x-python",
   "name": "python",
   "nbconvert_exporter": "python",
   "pygments_lexer": "ipython3",
   "version": "3.8.13"
  }
 },
 "nbformat": 4,
 "nbformat_minor": 5
}
